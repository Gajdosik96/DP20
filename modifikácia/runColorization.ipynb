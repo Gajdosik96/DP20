{
 "cells": [
  {
   "cell_type": "markdown",
   "metadata": {},
   "source": [
    "# Generovanie kolorizovaných výstupov "
   ]
  },
  {
   "cell_type": "code",
   "execution_count": null,
   "metadata": {},
   "outputs": [],
   "source": [
    "import os\n",
    "os.environ['CUDA_VISIBLE_DEVICES']='0'\n",
    "from pathlib import Path\n",
    "\n",
    "from fastai import *\n",
    "from fastai.vision import *\n",
    "from fastai.utils.mem import *"
   ]
  },
  {
   "cell_type": "code",
   "execution_count": null,
   "metadata": {},
   "outputs": [],
   "source": [
    "from myApp.visualise import *\n",
    "plt.style.use('dark_background')\n",
    "torch.backends.cudnn.benchmark=True"
   ]
  },
  {
   "cell_type": "code",
   "execution_count": null,
   "metadata": {},
   "outputs": [],
   "source": [
    "# root folder:\n",
    "#     -> models : weights\n",
    "root_folder=Path(\"./data/imagenet_500c_500s/ILSVRC/Data/CLS-LOC/bandw\")\n",
    "\n",
    "weight_model = \"BWModel_gen_4\"\n",
    "result_dir = \"result_images\"\n"
   ]
  },
  {
   "cell_type": "code",
   "execution_count": null,
   "metadata": {},
   "outputs": [],
   "source": [
    "colorizer = get_stable_image_colorizer(root_folder=root_folder,\n",
    "                                              weights_name=weight_model, results_dir=result_dir)"
   ]
  },
  {
   "cell_type": "code",
   "execution_count": null,
   "metadata": {
    "scrolled": true
   },
   "outputs": [],
   "source": [
    "# Nastavenie render_factor [default=35]. Faktor urcuje rozliseni, pri akom sa vykresli farebna cast obrazu. \n",
    "#     . Nizsia hodnota je rychlejsia a farby su zivsie. Je vhodna pre menej kvalitne obrazy.\n",
    "#     . Vyssia hodnota pre orazy v dobrom rozsliseni, farby mozu byt viac vyblednute.\n",
    "render_factor=35\n",
    "\n",
    "# Cesta ku ciernobielym fotografiam\n",
    "img_folder = Path(\"colorization_task\")\n",
    "imgs = get_image_files(img_folder)\n",
    "\n",
    "for img in imgs:\n",
    "    source_path = img\n",
    "    result_path_stable = colorizer_stable.plot_transformed_image(path=source_path, render_factor=render_factor, compare=True)\n",
    "\n",
    "#     show_image_in_notebook(result_path_stable)\n"
   ]
  },
  {
   "cell_type": "code",
   "execution_count": null,
   "metadata": {
    "scrolled": true
   },
   "outputs": [],
   "source": [
    "source_path = \"colorization_task/Young woman with two horses Blackall district 19001910.jpg\"\n",
    "for i in range(20,40):\n",
    "    colorizer_stable.plot_transformed_image(source_path, render_factor=i, display_render_factor=True, figsize=(10,10))"
   ]
  }
 ],
 "metadata": {
  "kernelspec": {
   "display_name": "Python 3",
   "language": "python",
   "name": "python3"
  },
  "language_info": {
   "codemirror_mode": {
    "name": "ipython",
    "version": 3
   },
   "file_extension": ".py",
   "mimetype": "text/x-python",
   "name": "python",
   "nbconvert_exporter": "python",
   "pygments_lexer": "ipython3",
   "version": "3.6.8"
  }
 },
 "nbformat": 4,
 "nbformat_minor": 2
}
